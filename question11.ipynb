{
 "cells": [
  {
   "cell_type": "markdown",
   "id": "682dc994-a247-43d9-9474-9051dbdac443",
   "metadata": {},
   "source": [
    "# JIA JIE (VINCENT) YI\n",
    "Notebook for assignment 7"
   ]
  },
  {
   "cell_type": "code",
   "execution_count": 1,
   "id": "365a71d4-27bd-45a6-93d8-cc876777b21a",
   "metadata": {},
   "outputs": [
    {
     "name": "stdout",
     "output_type": "stream",
     "text": [
      "5\n"
     ]
    }
   ],
   "source": [
    "def compute_mean(ls):\n",
    "    return print(int(sum(ls)/len(ls)))\n",
    "compute_mean([2,4,6,8])"
   ]
  },
  {
   "cell_type": "markdown",
   "id": "d18f82c2-2d5a-41be-b272-3c96ae17bde2",
   "metadata": {},
   "source": [
    "From the equation of the mean ($\\bar{x}$) as shown below:\n",
    "\n",
    "$$\n",
    "\\begin{aligned}\n",
    "\\bar{x} = \\frac{x_1\\ +\\ x_2\\ +x_3\\ + \\cdot\\cdot \\cdot\\ x_n}{n}\\ = \\ \\frac{1}{n}\\left(\\sum_{i=1}^n x_i \\right)\n",
    "\\end{aligned}\n",
    "$$\n",
    "\n",
    "The function compute_mean is created to compute the mean of the value in a list and prints the result. The function compute_mean adds up all the values in the list, then divides the sum by the number of values in the list. Finally, print the result of the function."
   ]
  },
  {
   "cell_type": "code",
   "execution_count": null,
   "id": "769cdc75-d2f8-4218-a024-3c828f961e97",
   "metadata": {},
   "outputs": [],
   "source": []
  }
 ],
 "metadata": {
  "kernelspec": {
   "display_name": "Python 3 (ipykernel)",
   "language": "python",
   "name": "python3"
  },
  "language_info": {
   "codemirror_mode": {
    "name": "ipython",
    "version": 3
   },
   "file_extension": ".py",
   "mimetype": "text/x-python",
   "name": "python",
   "nbconvert_exporter": "python",
   "pygments_lexer": "ipython3",
   "version": "3.10.9"
  }
 },
 "nbformat": 4,
 "nbformat_minor": 5
}
