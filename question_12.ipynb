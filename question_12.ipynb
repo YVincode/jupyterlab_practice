{
 "cells": [
  {
   "cell_type": "markdown",
   "id": "9a78674d-930a-4df2-8cf2-c72e5a6b63c9",
   "metadata": {},
   "source": [
    "# Question 12"
   ]
  },
  {
   "cell_type": "markdown",
   "id": "e47274d1-d600-4fdb-a87c-d4bad9cf7fbb",
   "metadata": {},
   "source": [
    "We are currently working in the following directory:"
   ]
  },
  {
   "cell_type": "code",
   "execution_count": 1,
   "id": "03b6527a-a50f-463b-b2b3-2f9c93d985a3",
   "metadata": {},
   "outputs": [
    {
     "name": "stdout",
     "output_type": "stream",
     "text": [
      "/Users/vincentyi/Desktop/Data Science Toolbox/module7/jupyterlab_practice\n"
     ]
    }
   ],
   "source": [
    "! pwd"
   ]
  },
  {
   "cell_type": "markdown",
   "id": "12584f9e-6da5-4b49-a365-805e11e47e54",
   "metadata": {},
   "source": [
    "To time how long it takes to run a Python cell, we could use the timeit command inside a cell as is shown below: Followed by the proper use of the timeit command to time the following loop:\n",
    "\n",
    "```\n",
    "for i in range(1_000_000):\n",
    "        i**2\n",
    "```"
   ]
  },
  {
   "cell_type": "code",
   "execution_count": 2,
   "id": "43c8591c-9e0f-4b82-b13a-39fcdbeae95f",
   "metadata": {},
   "outputs": [
    {
     "name": "stdout",
     "output_type": "stream",
     "text": [
      "[NbConvertApp] WARNING | Config option `kernel_spec_manager_class` not recognized by `NbConvertApp`.\n",
      "[NbConvertApp] Converting notebook question_12.ipynb to html\n",
      "[NbConvertApp] Writing 576087 bytes to question_12.html\n"
     ]
    }
   ],
   "source": [
    "!jupyter nbconvert question_12.ipynb \\\n",
    "    --to html \\\n",
    "    --output=question_12.html \\\n",
    "    --no-input"
   ]
  },
  {
   "cell_type": "code",
   "execution_count": null,
   "id": "6b71ca3c-6783-4171-8332-b598f42944ac",
   "metadata": {},
   "outputs": [],
   "source": []
  }
 ],
 "metadata": {
  "kernelspec": {
   "display_name": "Python 3 (ipykernel)",
   "language": "python",
   "name": "python3"
  },
  "language_info": {
   "codemirror_mode": {
    "name": "ipython",
    "version": 3
   },
   "file_extension": ".py",
   "mimetype": "text/x-python",
   "name": "python",
   "nbconvert_exporter": "python",
   "pygments_lexer": "ipython3",
   "version": "3.10.9"
  }
 },
 "nbformat": 4,
 "nbformat_minor": 5
}
